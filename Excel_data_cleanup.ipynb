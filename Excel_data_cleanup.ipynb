{
  "nbformat": 4,
  "nbformat_minor": 0,
  "metadata": {
    "colab": {
      "provenance": []
    },
    "kernelspec": {
      "name": "python3",
      "display_name": "Python 3"
    },
    "language_info": {
      "name": "python"
    }
  },
  "cells": [
    {
      "cell_type": "code",
      "execution_count": null,
      "metadata": {
        "colab": {
          "base_uri": "https://localhost:8080/"
        },
        "id": "qMYsmQDgOA-s",
        "outputId": "114ac97c-a5dc-440e-d4bc-a78a2a9ea85b"
      },
      "outputs": [
        {
          "output_type": "stream",
          "name": "stdout",
          "text": [
            "Drive already mounted at /content/drive; to attempt to forcibly remount, call drive.mount(\"/content/drive\", force_remount=True).\n"
          ]
        }
      ],
      "source": [
        "from google.colab import drive\n",
        "drive.mount('/content/drive')"
      ]
    },
    {
      "cell_type": "code",
      "source": [
        "pip install opencage\n"
      ],
      "metadata": {
        "colab": {
          "base_uri": "https://localhost:8080/"
        },
        "id": "v0ZFn-dnlWar",
        "outputId": "998b4d52-954a-4a4d-c66d-907bb8b1e2e8"
      },
      "execution_count": 5,
      "outputs": [
        {
          "output_type": "stream",
          "name": "stdout",
          "text": [
            "Requirement already satisfied: opencage in /usr/local/lib/python3.10/dist-packages (2.4.0)\n",
            "Requirement already satisfied: Requests>=2.31.0 in /usr/local/lib/python3.10/dist-packages (from opencage) (2.31.0)\n",
            "Requirement already satisfied: backoff>=2.2.1 in /usr/local/lib/python3.10/dist-packages (from opencage) (2.2.1)\n",
            "Requirement already satisfied: charset-normalizer<4,>=2 in /usr/local/lib/python3.10/dist-packages (from Requests>=2.31.0->opencage) (3.3.2)\n",
            "Requirement already satisfied: idna<4,>=2.5 in /usr/local/lib/python3.10/dist-packages (from Requests>=2.31.0->opencage) (3.6)\n",
            "Requirement already satisfied: urllib3<3,>=1.21.1 in /usr/local/lib/python3.10/dist-packages (from Requests>=2.31.0->opencage) (2.0.7)\n",
            "Requirement already satisfied: certifi>=2017.4.17 in /usr/local/lib/python3.10/dist-packages (from Requests>=2.31.0->opencage) (2024.2.2)\n"
          ]
        }
      ]
    },
    {
      "cell_type": "code",
      "source": [
        "import pandas as pd\n",
        "from google.colab import files\n",
        "import chardet\n",
        "import pandas as pd\n",
        "from opencage.geocoder import OpenCageGeocode\n",
        "from math import radians, sin, cos, sqrt, atan2\n",
        "from tqdm import tqdm\n"
      ],
      "metadata": {
        "id": "CTuh0JKGOOjk"
      },
      "execution_count": 6,
      "outputs": []
    },
    {
      "cell_type": "markdown",
      "source": [
        "# **Cleaning 'Have you Completed your Graduation ?' column**"
      ],
      "metadata": {
        "id": "8qb_Lf-EOzeC"
      }
    },
    {
      "cell_type": "code",
      "source": [
        "# Step 1: Identify the correct encoding\n",
        "with open('/content/drive/MyDrive/Piramal Hackathon/dataset/test.csv', 'rb') as f:\n",
        "    result = chardet.detect(f.read())\n",
        "\n",
        "encoding = result['encoding']\n",
        "print(\"Detected encoding:\", encoding)\n",
        "\n",
        "# Step 2: Read the dataset with the identified encoding\n",
        "df = pd.read_csv('/content/drive/MyDrive/Piramal Hackathon/dataset/test.csv', encoding=encoding)\n",
        "\n",
        "# Step 3: Check for missing values\n",
        "missing_values = df['Have you Completed your Graduation ?'].isnull().sum()\n",
        "print(\"Number of missing values before imputation:\", missing_values)\n",
        "\n",
        "# Step 4: Mode imputation\n",
        "mode_value = df['Have you Completed your Graduation ?'].mode()[0]\n",
        "df['Have you Completed your Graduation ?'].fillna(mode_value, inplace=True)\n",
        "\n",
        "# Step 5: Check for missing values after imputation\n",
        "missing_values_after = df['Have you Completed your Graduation ?'].isnull().sum()\n",
        "print(\"Number of missing values after imputation:\", missing_values_after)\n",
        "\n",
        "# Step 6: Save the updated dataset\n",
        "df.to_csv('/content/drive/MyDrive/Piramal Hackathon/mfds/mfds1.csv', index=False, encoding=encoding)\n"
      ],
      "metadata": {
        "id": "y472-MjzOicZ",
        "colab": {
          "base_uri": "https://localhost:8080/"
        },
        "outputId": "b6442f2a-d6e1-4888-de32-14969a2f9f72"
      },
      "execution_count": null,
      "outputs": [
        {
          "output_type": "stream",
          "name": "stdout",
          "text": [
            "Detected encoding: MacRoman\n",
            "Number of missing values before imputation: 20\n",
            "Number of missing values after imputation: 0\n"
          ]
        }
      ]
    },
    {
      "cell_type": "markdown",
      "source": [
        "# **Cleaning 'Highest Educational Qualification' column**"
      ],
      "metadata": {
        "id": "ljYbXqU-SmCa"
      }
    },
    {
      "cell_type": "code",
      "source": [
        "# Read the dataset\n",
        "df = pd.read_csv('/content/drive/MyDrive/Piramal Hackathon/mfds/mfds1.csv',encoding=encoding)\n",
        "\n",
        "# Check for missing values\n",
        "missing_values = df['Highest Educational Qualification'].isnull().sum()\n",
        "print(\"Number of missing values before imputation:\", missing_values)\n",
        "\n",
        "# Check the distribution of values in the column\n",
        "print(df['Highest Educational Qualification'].value_counts())\n",
        "\n",
        "# Mode Imputation for 'Highest Educational Qualification' column\n",
        "mode_value = df['Highest Educational Qualification'].mode()[0]\n",
        "df['Highest Educational Qualification'].fillna(mode_value, inplace=True)\n",
        "\n",
        "# Check for missing values after imputation\n",
        "missing_values_after = df['Highest Educational Qualification'].isnull().sum()\n",
        "print(\"Number of missing values after imputation:\", missing_values_after)\n",
        "\n",
        "# Save the updated dataset\n",
        "df.to_csv('/content/drive/MyDrive/Piramal Hackathon/mfds/mfds2.csv', index=False,encoding=encoding)"
      ],
      "metadata": {
        "colab": {
          "base_uri": "https://localhost:8080/"
        },
        "id": "AUI8C18sSXeI",
        "outputId": "06e5d659-987e-4344-cdd9-0a03c5910cac"
      },
      "execution_count": null,
      "outputs": [
        {
          "output_type": "stream",
          "name": "stdout",
          "text": [
            "Number of missing values before imputation: 20\n",
            "Highest Educational Qualification\n",
            "Graduate          108\n",
            "Post Graduate      50\n",
            "Under Graduate      8\n",
            "Others              1\n",
            "Name: count, dtype: int64\n",
            "Number of missing values after imputation: 0\n"
          ]
        }
      ]
    },
    {
      "cell_type": "markdown",
      "source": [
        "# **Cleaning 'Total no of years Experience [before joining Piramal' column**\n",
        "\n",
        "\n",
        "\n"
      ],
      "metadata": {
        "id": "cQrmfjI4VMuA"
      }
    },
    {
      "cell_type": "code",
      "source": [
        "# Read the dataset\n",
        "data = pd.read_csv('/content/drive/MyDrive/Piramal Hackathon/mfds/mfds2.csv',encoding=encoding)\n",
        "\n",
        "def fill_missing_experience(column):\n",
        "    \"\"\"\n",
        "    Fill missing entries in the 'Total no of years Experience [before joining Piramal]' column\n",
        "    with the average of entries within the range of 0 to 30.\n",
        "    \"\"\"\n",
        "    # Filter entries within the range of 0 to 30\n",
        "    filtered_values = column[(column >= 0) & (column <= 30)]\n",
        "\n",
        "    # Calculate the average of filtered values\n",
        "    avg_experience = filtered_values.mean()\n",
        "\n",
        "    # Fill missing values with the calculated average\n",
        "    column.fillna(avg_experience, inplace=True)\n",
        "\n",
        "    return column\n",
        "\n",
        "# Apply the filling function to the column\n",
        "data['Total no of years Experience [before joining Piramal]'] = fill_missing_experience(data['Total no of years Experience [before joining Piramal]'])\n",
        "\n",
        "# Save the modified dataset\n",
        "data.to_csv('/content/drive/MyDrive/Piramal Hackathon/mfds/mfds3.csv', index=False,encoding=encoding)\n",
        "\n",
        "# Display the modified dataset\n",
        "print(\"Modified dataset\")\n",
        "\n"
      ],
      "metadata": {
        "colab": {
          "base_uri": "https://localhost:8080/"
        },
        "id": "xPSBkAjyTPqH",
        "outputId": "b5debb52-f301-42b5-d648-c32b4aa61f08"
      },
      "execution_count": null,
      "outputs": [
        {
          "output_type": "stream",
          "name": "stdout",
          "text": [
            "Modified dataset\n"
          ]
        }
      ]
    },
    {
      "cell_type": "code",
      "source": [
        "\n",
        "data = pd.read_csv('/content/drive/MyDrive/Piramal Hackathon/mfds/mfds3.csv',encoding=encoding)\n",
        "\n",
        "def round_experience(column):\n",
        "    \"\"\"\n",
        "    Round off all the values in the column to the nearest integer.\n",
        "    \"\"\"\n",
        "    # Round off the values to the nearest integer\n",
        "    column = column.round()\n",
        "\n",
        "    return column\n",
        "\n",
        "# Apply the rounding function to the column\n",
        "data['Total no of years Experience [before joining Piramal]'] = round_experience(data['Total no of years Experience [before joining Piramal]'])\n",
        "\n",
        "# Save the modified dataset\n",
        "data.to_csv('/content/drive/MyDrive/Piramal Hackathon/mfds/mfds4.csv', index=False,encoding=encoding)\n",
        "\n",
        "# Display the modified dataset\n",
        "print(\"Modified dataset\")\n",
        "\n"
      ],
      "metadata": {
        "colab": {
          "base_uri": "https://localhost:8080/"
        },
        "id": "0hx7T7PZWZu4",
        "outputId": "6c320c7d-591d-403e-c25e-baf5bc02befe"
      },
      "execution_count": null,
      "outputs": [
        {
          "output_type": "stream",
          "name": "stdout",
          "text": [
            "Modified dataset\n"
          ]
        }
      ]
    },
    {
      "cell_type": "markdown",
      "source": [
        "# **Cleaning 'Name of your Previous Organization / Company' column**"
      ],
      "metadata": {
        "id": "kxcl_8hVXItY"
      }
    },
    {
      "cell_type": "code",
      "source": [
        "# Read the dataset\n",
        "data = pd.read_csv('/content/drive/MyDrive/Piramal Hackathon/mfds/mfds4.csv',encoding=encoding)\n",
        "\n",
        "def fill_missing_previous_org(column):\n",
        "    \"\"\"\n",
        "    Fill missing entries in the column with 0.\n",
        "    \"\"\"\n",
        "    return column.fillna(0)\n",
        "\n",
        "# Apply the filling function to the column\n",
        "data['Name of your Previous Organization / Company'] = fill_missing_previous_org(data['Name of your Previous Organization / Company'])\n",
        "\n",
        "# Save the modified dataset\n",
        "data.to_csv('/content/drive/MyDrive/Piramal Hackathon/mfds/mfds5.csv', index=False,encoding=encoding)\n",
        "\n",
        "# Display the modified dataset\n",
        "print(\"Modified dataset\")\n",
        "\n"
      ],
      "metadata": {
        "colab": {
          "base_uri": "https://localhost:8080/"
        },
        "id": "TuH8rrPRWw7z",
        "outputId": "e640fc5f-b8f8-4bfc-c305-b41e5544a2a8"
      },
      "execution_count": null,
      "outputs": [
        {
          "output_type": "stream",
          "name": "stdout",
          "text": [
            "Modified dataset\n"
          ]
        }
      ]
    },
    {
      "cell_type": "code",
      "source": [
        "\n",
        "data = pd.read_csv('/content/drive/MyDrive/Piramal Hackathon/mfds/mfds5.csv',encoding=encoding)\n",
        "\n",
        "def convert_numerical_to_na(entry):\n",
        "    \"\"\"\n",
        "    Convert numeric values to 'NA'.\n",
        "    \"\"\"\n",
        "    if str(entry).strip().replace('.', '').isdigit():\n",
        "        return 'NA'\n",
        "    else:\n",
        "        return entry\n",
        "\n",
        "# Apply the conversion function to the column\n",
        "data['Name of your Previous Organization / Company'] = data['Name of your Previous Organization / Company'].apply(convert_numerical_to_na)\n",
        "\n",
        "# Save the modified dataset\n",
        "data.to_csv('/content/drive/MyDrive/Piramal Hackathon/mfds/mfds6.csv', index=False,encoding=encoding)\n",
        "\n",
        "# Display the modified dataset\n",
        "print(\"Modified dataset\")\n"
      ],
      "metadata": {
        "colab": {
          "base_uri": "https://localhost:8080/"
        },
        "id": "2F-NzyBsX25w",
        "outputId": "d549f164-cf70-4f8f-9ce4-71c09ec7db27"
      },
      "execution_count": null,
      "outputs": [
        {
          "output_type": "stream",
          "name": "stdout",
          "text": [
            "Modified dataset\n"
          ]
        }
      ]
    },
    {
      "cell_type": "markdown",
      "source": [
        "# **Cleaning 'How many organisations have you worked before joining Piramal Finance?' column**"
      ],
      "metadata": {
        "id": "D-ubhN2CYZu2"
      }
    },
    {
      "cell_type": "code",
      "source": [
        "data = pd.read_csv('/content/drive/MyDrive/Piramal Hackathon/mfds/mfds6.csv',encoding=encoding)\n",
        "\n",
        "def clean_organizations(column):\n",
        "    \"\"\"\n",
        "    Cleans the 'How many Organization that you have worked before joining Piramal Finance ?' column in the DataFrame.\n",
        "    \"\"\"\n",
        "    # Define value mapping\n",
        "    value_mapping = {\n",
        "        '01-Feb': 2,\n",
        "        '03-May': 4,\n",
        "        '0 / Fresher': 0,\n",
        "        '5+': 6,\n",
        "        'a' : 0,\n",
        "    }\n",
        "    # Replace values using the mapping\n",
        "    return column.replace(value_mapping)\n",
        "    avg = int(column.mean())\n",
        "    column.fillna(avg, inplace=True)\n",
        "\n",
        "    return column\n",
        "\n",
        "# Apply the cleaning function to the column\n",
        "data['How many Organization that you have worked before joining Piramal Finance ?'] = clean_organizations(data['How many Organization that you have worked before joining Piramal Finance ?'])\n",
        "\n",
        "# Save the modified dataset\n",
        "data.to_csv('/content/drive/MyDrive/Piramal Hackathon/mfds/mfds7.csv', index=False,encoding=encoding)\n",
        "\n",
        "# Display the modified dataset\n",
        "print(\"Modified dataset:\")\n"
      ],
      "metadata": {
        "colab": {
          "base_uri": "https://localhost:8080/"
        },
        "id": "M8xEaEI2YB4Z",
        "outputId": "a138558a-52d2-44c0-b060-39d30196daae"
      },
      "execution_count": null,
      "outputs": [
        {
          "output_type": "stream",
          "name": "stdout",
          "text": [
            "Modified dataset:\n"
          ]
        }
      ]
    },
    {
      "cell_type": "code",
      "source": [
        "\n",
        "data = pd.read_csv('/content/drive/MyDrive/Piramal Hackathon/mfds/mfds7.csv',encoding=encoding)\n",
        "\n",
        "def fill_missing_entries_with_average(column):\n",
        "    \"\"\"\n",
        "    Fill missing entries in the column with the round off average of non-missing entries.\n",
        "    \"\"\"\n",
        "    avg = round(column.mean())\n",
        "    column.fillna(avg, inplace=True)\n",
        "    return column\n",
        "\n",
        "# Apply the filling function to the column\n",
        "data['How many Organization that you have worked before joining Piramal Finance ?'] = fill_missing_entries_with_average(data['How many Organization that you have worked before joining Piramal Finance ?'])\n",
        "\n",
        "# Save the modified dataset\n",
        "data.to_csv('/content/drive/MyDrive/Piramal Hackathon/mfds/mfds8.csv', index=False,encoding=encoding)\n",
        "\n",
        "# Display the modified dataset\n",
        "print(\"Modified dataset:\")\n",
        "\n"
      ],
      "metadata": {
        "colab": {
          "base_uri": "https://localhost:8080/"
        },
        "id": "Ugn8Gj3RZNK9",
        "outputId": "c89dcfc7-f196-42f9-cc37-fbafd7f9a389"
      },
      "execution_count": null,
      "outputs": [
        {
          "output_type": "stream",
          "name": "stdout",
          "text": [
            "Modified dataset:\n"
          ]
        }
      ]
    },
    {
      "cell_type": "markdown",
      "source": [
        "# **Cleaning 'Average Incentive [per month] earned in your pervious company ?' Column**"
      ],
      "metadata": {
        "id": "xreIKRWzd1hE"
      }
    },
    {
      "cell_type": "code",
      "source": [
        "# Read the dataset\n",
        "data = pd.read_csv('/content/drive/MyDrive/Piramal Hackathon/mfds/mfds8.csv',encoding=encoding)\n",
        "\n",
        "# Define the cleaning function\n",
        "def clean_incentive(df):\n",
        "    value_mapping = {\n",
        "        'Above 10K': 12000,\n",
        "        '7K-10K': 8000,\n",
        "        'Less than 3K': 2000,\n",
        "        'Nil': 0,\n",
        "        '3K-7K': 5000,\n",
        "    }\n",
        "\n",
        "    # Replace values in the 'Average Incentive [per month] earned in your pervious company ?' column using the mapping\n",
        "    df['Average Incentive [per month] earned in your pervious company ?'] = df['Average Incentive [per month] earned in your pervious company ?'].replace(value_mapping)\n",
        "\n",
        "    return df\n",
        "\n",
        "# Apply the cleaning function\n",
        "data = clean_incentive(data)\n",
        "\n",
        "# Save the modified dataset to a new CSV file\n",
        "data.to_csv('/content/drive/MyDrive/Piramal Hackathon/mfds/mfds9.csv', index=False,encoding=encoding)\n",
        "\n",
        "# Print a message to confirm the saving process\n",
        "print(\"Modified dataset\")\n"
      ],
      "metadata": {
        "colab": {
          "base_uri": "https://localhost:8080/"
        },
        "id": "abdttkYHcWYJ",
        "outputId": "af638c8d-ba1a-4d84-895a-66e4fd78d313"
      },
      "execution_count": null,
      "outputs": [
        {
          "output_type": "stream",
          "name": "stdout",
          "text": [
            "Modified dataset\n"
          ]
        }
      ]
    },
    {
      "cell_type": "markdown",
      "source": [
        "# **Cleaning 'Which Products you are selling in your pervious role ?' Column**"
      ],
      "metadata": {
        "id": "1iWZvcWGeVCn"
      }
    },
    {
      "cell_type": "code",
      "source": [
        "# Read the dataset\n",
        "data = pd.read_csv('/content/drive/MyDrive/Piramal Hackathon/mfds/mfds9.csv',encoding=encoding)\n",
        "\n",
        "# Fill missing entries in 'Which Products you are selling in your previous role ?' column with 'Others'\n",
        "data['Which Products you are selling in your pervious role ?'].fillna('Others;', inplace=True)\n",
        "\n",
        "# Save the modified dataset\n",
        "data.to_csv('/content/drive/MyDrive/Piramal Hackathon/mfds/mfds10.csv', index=False,encoding=encoding)\n",
        "\n",
        "# Display the modified dataset\n",
        "print(\"Modified dataset:\")\n",
        "\n"
      ],
      "metadata": {
        "colab": {
          "base_uri": "https://localhost:8080/"
        },
        "id": "XY083HHEeSCJ",
        "outputId": "e3510204-6d92-4b45-cbac-0a6750c526d0"
      },
      "execution_count": null,
      "outputs": [
        {
          "output_type": "stream",
          "name": "stdout",
          "text": [
            "Modified dataset:\n"
          ]
        }
      ]
    },
    {
      "cell_type": "markdown",
      "source": [
        "# **Cleaning 'Average Ticket Size' Column**"
      ],
      "metadata": {
        "id": "sSp9V4Z5e57v"
      }
    },
    {
      "cell_type": "code",
      "source": [
        "data = pd.read_csv('/content/drive/MyDrive/Piramal Hackathon/mfds/mfds10.csv',encoding=encoding)\n",
        "\n",
        "def clean_ticketsize(column):\n",
        "    \"\"\"\n",
        "    Cleans the 'Ticket_Size' column in the DataFrame.\n",
        "    \"\"\"\n",
        "    value_mapping = {\n",
        "        'INR 5L - INR 15L': 1000000,\n",
        "        'INR 50K - INR 2L': 150000,\n",
        "        'INR 15L and above': 2000000,\n",
        "        'Fresher': 0,\n",
        "        'INR 10L and above': 1500000,\n",
        "        ' INR 2L - INR 5L': 350000,\n",
        "        '\\xa0INR 2L - INR 5L': 350000,\n",
        "        'åêINR 2L - INR 5L' : 350000,\n",
        "        'INR 50K and below': 50000,\n",
        "        'INR 5L - INR 10L': 750000\n",
        "    }\n",
        "\n",
        "    # Replace values in the 'ticket size' column using the mapping\n",
        "    return column.replace(value_mapping)\n",
        "\n",
        "# Apply the cleaning function to the column\n",
        "data['What was the average ticket size handled at your end in previous role ?'] = clean_ticketsize(data['What was the average ticket size handled at your end in previous role ?'])\n",
        "\n",
        "# Save the modified dataset\n",
        "data.to_csv('/content/drive/MyDrive/Piramal Hackathon/mfds/mfds11.csv', index=False,encoding=encoding)\n",
        "\n",
        "# Display the modified dataset\n",
        "print(\"Modified dataset:\")\n",
        "display(data)\n"
      ],
      "metadata": {
        "id": "ueqccImfen_Z"
      },
      "execution_count": null,
      "outputs": []
    },
    {
      "cell_type": "markdown",
      "source": [
        "# **Cleaning 'Number of Earning members in the family'**"
      ],
      "metadata": {
        "id": "sjCqAckbfvWA"
      }
    },
    {
      "cell_type": "code",
      "source": [
        "# Read the dataset\n",
        "data = pd.read_csv('/content/drive/MyDrive/Piramal Hackathon/mfds/mfds11.csv',encoding=encoding)\n",
        "\n",
        "def fill_missing_earning_members(row):\n",
        "    \"\"\"\n",
        "    Fill missing entries in 'How many are earning family members ? [Other than yourself]' column\n",
        "    based on the first digit of the corresponding entry in 'How many members are there in your family ?' column.\n",
        "    \"\"\"\n",
        "    family_members = row['How many members are there in your family ?']\n",
        "    earning_members = row['How many are earning family members ? [Other then yourself]2']\n",
        "\n",
        "    # If the entry in 'How many are earning family members ? [Other than yourself]' column is missing\n",
        "    if pd.isna(earning_members):\n",
        "        # Extract the first digit of the 'How many members are there in your family ?' column entry\n",
        "        # Extract the first digit of the 'How many members are there in your family ?' column entry\n",
        "        if '5 & Above members' in family_members.lower():\n",
        "            return 2\n",
        "        else:\n",
        "            first_digit = int(family_members.split()[0])\n",
        "            return first_digit\n",
        "    else:\n",
        "        return earning_members\n",
        "\n",
        "# Apply the function to fill missing entries in the 'How many are earning family members ? [Other than yourself]' column\n",
        "data['How many are earning family members ? [Other then yourself]2'] = data.apply(fill_missing_earning_members, axis=1)\n",
        "\n",
        "# Save the modified dataset\n",
        "data.to_csv('/content/drive/MyDrive/Piramal Hackathon/mfds/mfds12.csv', index=False,encoding=encoding)\n",
        "\n",
        "# Display the modified dataset\n",
        "print(\"Modified dataset:\")\n",
        "\n"
      ],
      "metadata": {
        "colab": {
          "base_uri": "https://localhost:8080/"
        },
        "id": "CC2TSTgkfTu1",
        "outputId": "0823b59e-3882-48d5-f230-3d77a7b16d50"
      },
      "execution_count": null,
      "outputs": [
        {
          "output_type": "stream",
          "name": "stdout",
          "text": [
            "Modified dataset:\n"
          ]
        }
      ]
    },
    {
      "cell_type": "code",
      "source": [
        "# Read the dataset\n",
        "data = pd.read_csv('/content/drive/MyDrive/Piramal Hackathon/mfds/mfds12.csv',encoding=encoding)\n",
        "\n",
        "def replace_outliers(x):\n",
        "    \"\"\"\n",
        "    Replace outliers (entries greater than 10) with 2.\n",
        "    \"\"\"\n",
        "    if x > 10:\n",
        "        return 2\n",
        "    else:\n",
        "        return x\n",
        "\n",
        "# Apply the function to the 'How many are earning family members ? [Other than yourself]2' column\n",
        "data['How many are earning family members ? [Other then yourself]2'] = data['How many are earning family members ? [Other then yourself]2'].apply(replace_outliers)\n",
        "\n",
        "# Save the modified dataset\n",
        "data.to_csv('/content/drive/MyDrive/Piramal Hackathon/mfds/mfds12.csv', index=False,encoding=encoding)\n",
        "\n",
        "# Display the modified dataset\n",
        "print(\"Modified dataset:\")\n",
        "\n"
      ],
      "metadata": {
        "colab": {
          "base_uri": "https://localhost:8080/"
        },
        "id": "kdMj7TBrgL_k",
        "outputId": "a175436d-3db9-4528-8998-4ac050a4d358"
      },
      "execution_count": null,
      "outputs": [
        {
          "output_type": "stream",
          "name": "stdout",
          "text": [
            "Modified dataset:\n"
          ]
        }
      ]
    },
    {
      "cell_type": "markdown",
      "source": [
        "# **Cleaning 'Number of members in family' column**"
      ],
      "metadata": {
        "id": "24tdLkopgyAw"
      }
    },
    {
      "cell_type": "code",
      "source": [
        "data = pd.read_csv('/content/drive/MyDrive/Piramal Hackathon/mfds/mfds12.csv',encoding=encoding)\n",
        "def clean_familymembers(column):\n",
        "    \"\"\"\n",
        "    Cleans the 'Family_Members' column in the DataFrame.\n",
        "    \"\"\"\n",
        "    value_mapping = {\n",
        "        '1 - 2 members': 2,\n",
        "        '3 - 4 members': 4,\n",
        "        '5 & Above members': 6,\n",
        "        '5 & above members': 6,\n",
        "    }\n",
        "\n",
        "    # Replace values in the 'Family_Members' column using the mapping\n",
        "    return column.replace(value_mapping)\n",
        "\n",
        "# Apply the cleaning function to the column\n",
        "data['How many members are there in your family ?'] = clean_familymembers(data['How many members are there in your family ?'])\n",
        "\n",
        "# Save the modified dataset\n",
        "data.to_csv('/content/drive/MyDrive/Piramal Hackathon/mfds/mfds13.csv', index=False, encoding=encoding)\n",
        "\n",
        "# Display the modified dataset\n",
        "print(\"Modified dataset:\")"
      ],
      "metadata": {
        "colab": {
          "base_uri": "https://localhost:8080/"
        },
        "id": "YOhOR5U6gdwb",
        "outputId": "07470710-26ad-470e-ec1d-6c8a3086886e"
      },
      "execution_count": null,
      "outputs": [
        {
          "output_type": "stream",
          "name": "stdout",
          "text": [
            "Modified dataset:\n"
          ]
        }
      ]
    },
    {
      "cell_type": "markdown",
      "source": [
        "# **Getting number od days till today from DOJ**"
      ],
      "metadata": {
        "id": "6_ZO53dEkWdX"
      }
    },
    {
      "cell_type": "code",
      "source": [
        "\n",
        "data = pd.read_csv('/content/drive/MyDrive/Piramal Hackathon/mfds/mfds13.csv',encoding=encoding)\n",
        "\n",
        "def format_doj(df):\n",
        "    \"\"\"\n",
        "    Formats the 'DOJ' (Date of Joining) column to datetime format\n",
        "    and adds a new column 'Days_passed' with the difference between DOJ\n",
        "    and current date.\n",
        "    \"\"\"\n",
        "    try:\n",
        "        # Try formatting with specific format (%d-%m-%Y)\n",
        "        df['DOJ'] = pd.to_datetime(df['DOJ'], format='%d-%m-%Y')\n",
        "    except ValueError:\n",
        "        # If format fails, try using 'mixed' format\n",
        "        df['DOJ'] = pd.to_datetime(df['DOJ'], errors='coerce')\n",
        "\n",
        "    # Get today's date\n",
        "    today = pd.Timestamp('today')\n",
        "\n",
        "    # Calculate the difference in days for each row in 'DOJ'\n",
        "    df['Days_passed'] = (today - df['DOJ']).dt.days\n",
        "\n",
        "    return df\n",
        "\n",
        "# Apply the formatting function to the DataFrame\n",
        "data = format_doj(data)\n",
        "\n",
        "# Save the modified dataset\n",
        "data.to_csv('/content/drive/MyDrive/Piramal Hackathon/mfds/mfds13.csv', index=False,encoding=encoding)\n",
        "\n",
        "# Display the modified dataset\n",
        "print(\"Modified dataset:\")\n",
        "\n"
      ],
      "metadata": {
        "colab": {
          "base_uri": "https://localhost:8080/"
        },
        "id": "orZI6oRthDrG",
        "outputId": "7eade079-0375-437b-9bee-f5348760b503"
      },
      "execution_count": null,
      "outputs": [
        {
          "output_type": "stream",
          "name": "stdout",
          "text": [
            "Modified dataset:\n"
          ]
        }
      ]
    },
    {
      "cell_type": "markdown",
      "source": [
        "# **Getting distance between Residetial and Branch PinCode**"
      ],
      "metadata": {
        "id": "bRBWgwRQk0Ga"
      }
    },
    {
      "cell_type": "code",
      "source": [
        "import pandas as pd\n",
        "from opencage.geocoder import OpenCageGeocode\n",
        "from math import radians, sin, cos, sqrt, atan2\n",
        "from tqdm import tqdm\n",
        "\n",
        "# Initialize the geocoder with your API key\n",
        "geocoder = OpenCageGeocode('4b4c835ad98c4ba388d8fefad0fbee82')\n",
        "\n",
        "# Function to get latitude and longitude from PIN code\n",
        "def get_coordinates_from_pincode(pincode):\n",
        "    try:\n",
        "        results = geocoder.geocode(pincode + ', India')\n",
        "        if results:\n",
        "            return results[0]['geometry']['lat'], results[0]['geometry']['lng']\n",
        "    except:\n",
        "        pass\n",
        "    return None, None\n",
        "\n",
        "# Function to calculate distance between two sets of latitude and longitude\n",
        "def calculate_distance(lat1, lon1, lat2, lon2):\n",
        "    # Convert latitude and longitude from degrees to radians\n",
        "    lat1, lon1, lat2, lon2 = map(radians, [lat1, lon1, lat2, lon2])\n",
        "\n",
        "    # Haversine formula\n",
        "    dlon = lon2 - lon1\n",
        "    dlat = lat2 - lat1\n",
        "    a = sin(dlat/2) ** 2 + cos(lat1) * cos(lat2) * sin(dlon/2) ** 2\n",
        "    c = 2 * atan2(sqrt(a), sqrt(1 - a))\n",
        "    distance_km = 6371 * c  # Earth radius in kilometers\n",
        "    return distance_km\n",
        "\n",
        "# Read the Excel file\n",
        "df = pd.read_excel(\"pincode_11.xlsx\")\n",
        "\n",
        "# Calculate and append distances\n",
        "distances = []\n",
        "for index, row in tqdm(df.iterrows()):\n",
        "    lat1, lon1 = get_coordinates_from_pincode(str(row[0]))\n",
        "    lat2, lon2 = get_coordinates_from_pincode(str(row[1]))\n",
        "    if lat1 is not None and lon1 is not None and lat2 is not None and lon2 is not None:\n",
        "        distance = calculate_distance(lat1, lon1, lat2, lon2)\n",
        "    else:\n",
        "        print(\"errror\")\n",
        "        distance = 0\n",
        "    distances.append(distance)\n",
        "\n",
        "df['Distance (km)'] = distances\n",
        "\n",
        "# Save the updated DataFrame to the Excel file\n",
        "df.to_excel(\"pin.xlsx\",index=False)"
      ],
      "metadata": {
        "id": "i1Tbf_zmkxWD",
        "colab": {
          "base_uri": "https://localhost:8080/"
        },
        "outputId": "240bf0ab-2f20-4139-a038-d9e006bf9ff6"
      },
      "execution_count": 7,
      "outputs": [
        {
          "output_type": "stream",
          "name": "stderr",
          "text": [
            "187it [03:18,  1.06s/it]\n"
          ]
        }
      ]
    },
    {
      "cell_type": "code",
      "source": [
        "import pandas as pd\n",
        "\n",
        "# Load the dataset\n",
        "df = pd.read_excel('pin.xlsx')\n",
        "\n",
        "# Round off the 'Distance (km)' column to the nearest integer\n",
        "df['Distance (km)'] = df['Distance (km)'].round()\n",
        "\n",
        "# Save the modified dataset\n",
        "df.to_excel('pinfinal.xlsx', index=False)\n",
        "\n",
        "# Display a message indicating successful completion\n",
        "print(\"Distances rounded off to nearest integer and saved to 'rounded_distances.csv'\")\n"
      ],
      "metadata": {
        "id": "lFfHf6bywC82"
      },
      "execution_count": null,
      "outputs": []
    },
    {
      "cell_type": "code",
      "source": [
        "import pandas as pd\n",
        "\n",
        "# Load the Excel files\n",
        "excel1 = pd.read_excel('mfds13f.xlsx')\n",
        "excel2 = pd.read_excel('final_cleaned.xlsx')\n",
        "\n",
        "# Merge the two DataFrames based on the CandidateID column\n",
        "merged = pd.merge(excel1, excel2[['CandidateID', 'textcontent']], on='CandidateID', how='left')\n",
        "\n",
        "# Save the merged DataFrame back to Excel\n",
        "merged.to_excel('merged_excel.xlsx',index=False)"
      ],
      "metadata": {
        "id": "ql9d-JQn6Ke9"
      },
      "execution_count": 9,
      "outputs": []
    },
    {
      "cell_type": "code",
      "source": [],
      "metadata": {
        "id": "EGcXLKIBMGxO"
      },
      "execution_count": null,
      "outputs": []
    }
  ]
}